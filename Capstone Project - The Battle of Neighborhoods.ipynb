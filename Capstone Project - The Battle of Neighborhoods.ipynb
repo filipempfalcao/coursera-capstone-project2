{
    "nbformat_minor": 1, 
    "cells": [
        {
            "source": "For this week, you will required to submit the following:\n\n1. A description of the problem and a discussion of the background. (15 marks)\n2. A description of the data and how it will be used to solve the problem. (15 marks)\n\nFor the second week, the final deliverables of the project will be:\n\n1. A link to your Notebook on your Github repository, showing your code. (15 marks)\n2. A full report consisting of all of the following components (15 marks):\n    - Introduction where you discuss the business problem and who would be interested in this project.\n    - Data where you describe the data that will be used to solve the problem and the source of the data.\n    - Methodology section which represents the main component of the report where you discuss and describe any exploratory data analysis that you did, any inferential statistical testing that you performed, and what machine learnings were used and why.\n    - Results section where you discuss the results.\n    - Discussion section where you discuss any observations you noted and any recommendations you can make based on the results.\n    - Conclusion section where you conclude the report.\n3. Your choice of a presentation or blogpost. (10 marks)\n", 
            "cell_type": "markdown", 
            "metadata": {
                "collapsed": true
            }
        }, 
        {
            "source": "# Step 1", 
            "cell_type": "markdown", 
            "metadata": {}
        }, 
        {
            "source": "Clearly define a problem or an idea of your choice, where you would need to leverage the Foursquare location data to solve or execute. Remember that data science problems always target an audience and are meant to help a group of stakeholders solve a problem, so make sure that you explicitly describe your audience and why they would care about your problem.\n\nThis submission will eventually become your Introduction/Business Problem section in your final report. So I recommend that you push the report (having your Introduction/Business Problem section only for now) to your Github repository and submit a link to it.", 
            "cell_type": "markdown", 
            "metadata": {}
        }, 
        {
            "source": "# Step 2", 
            "cell_type": "markdown", 
            "metadata": {}
        }, 
        {
            "source": "Describe the data that you will be using to solve the problem or execute your idea. Remember that you will need to use the Foursquare location data to solve the problem or execute your idea. You can absolutely use other datasets in combination with the Foursquare location data. So make sure that you provide adequate explanation and discussion, with examples, of the data that you will be using, even if it is only Foursquare location data.\n\nThis submission will eventually become your Data section in your final report. So I recommend that you push the report (having your Data section) to your Github repository and submit a link to it.", 
            "cell_type": "markdown", 
            "metadata": {}
        }, 
        {
            "execution_count": null, 
            "cell_type": "code", 
            "metadata": {}, 
            "outputs": [], 
            "source": ""
        }
    ], 
    "metadata": {
        "kernelspec": {
            "display_name": "Python 3.5", 
            "name": "python3", 
            "language": "python"
        }, 
        "language_info": {
            "mimetype": "text/x-python", 
            "nbconvert_exporter": "python", 
            "version": "3.5.5", 
            "name": "python", 
            "file_extension": ".py", 
            "pygments_lexer": "ipython3", 
            "codemirror_mode": {
                "version": 3, 
                "name": "ipython"
            }
        }
    }, 
    "nbformat": 4
}