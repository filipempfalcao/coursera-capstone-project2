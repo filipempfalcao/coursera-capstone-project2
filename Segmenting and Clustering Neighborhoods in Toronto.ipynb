{
    "nbformat_minor": 1, 
    "cells": [
        {
            "execution_count": 1, 
            "cell_type": "code", 
            "metadata": {}, 
            "outputs": [], 
            "source": "import requests\nimport pandas as pd"
        }, 
        {
            "execution_count": 2, 
            "cell_type": "code", 
            "metadata": {}, 
            "outputs": [], 
            "source": "url = 'https://en.wikipedia.org/wiki/List_of_postal_codes_of_Canada:_M'"
        }, 
        {
            "execution_count": 3, 
            "cell_type": "code", 
            "metadata": {}, 
            "outputs": [
                {
                    "execution_count": 3, 
                    "metadata": {}, 
                    "data": {
                        "text/plain": "[    Postcode           Borough  \\\n 0        M1A      Not assigned   \n 1        M2A      Not assigned   \n 2        M3A        North York   \n 3        M4A        North York   \n 4        M5A  Downtown Toronto   \n 5        M5A  Downtown Toronto   \n 6        M6A        North York   \n 7        M6A        North York   \n 8        M7A      Queen's Park   \n 9        M8A      Not assigned   \n 10       M9A         Etobicoke   \n 11       M1B       Scarborough   \n 12       M1B       Scarborough   \n 13       M2B      Not assigned   \n 14       M3B        North York   \n 15       M4B         East York   \n 16       M4B         East York   \n 17       M5B  Downtown Toronto   \n 18       M5B  Downtown Toronto   \n 19       M6B        North York   \n 20       M7B      Not assigned   \n 21       M8B      Not assigned   \n 22       M9B         Etobicoke   \n 23       M9B         Etobicoke   \n 24       M9B         Etobicoke   \n 25       M9B         Etobicoke   \n 26       M9B         Etobicoke   \n 27       M1C       Scarborough   \n 28       M1C       Scarborough   \n 29       M1C       Scarborough   \n ..       ...               ...   \n 259      M9X      Not assigned   \n 260      M1Y      Not assigned   \n 261      M2Y      Not assigned   \n 262      M3Y      Not assigned   \n 263      M4Y  Downtown Toronto   \n 264      M5Y      Not assigned   \n 265      M6Y      Not assigned   \n 266      M7Y      East Toronto   \n 267      M8Y         Etobicoke   \n 268      M8Y         Etobicoke   \n 269      M8Y         Etobicoke   \n 270      M8Y         Etobicoke   \n 271      M8Y         Etobicoke   \n 272      M8Y         Etobicoke   \n 273      M8Y         Etobicoke   \n 274      M8Y         Etobicoke   \n 275      M9Y      Not assigned   \n 276      M1Z      Not assigned   \n 277      M2Z      Not assigned   \n 278      M3Z      Not assigned   \n 279      M4Z      Not assigned   \n 280      M5Z      Not assigned   \n 281      M6Z      Not assigned   \n 282      M7Z      Not assigned   \n 283      M8Z         Etobicoke   \n 284      M8Z         Etobicoke   \n 285      M8Z         Etobicoke   \n 286      M8Z         Etobicoke   \n 287      M8Z         Etobicoke   \n 288      M9Z      Not assigned   \n \n                                         Neighbourhood  \n 0                                        Not assigned  \n 1                                        Not assigned  \n 2                                           Parkwoods  \n 3                                    Victoria Village  \n 4                                        Harbourfront  \n 5                                         Regent Park  \n 6                                    Lawrence Heights  \n 7                                      Lawrence Manor  \n 8                                        Not assigned  \n 9                                        Not assigned  \n 10                                   Islington Avenue  \n 11                                              Rouge  \n 12                                            Malvern  \n 13                                       Not assigned  \n 14                                    Don Mills North  \n 15                                   Woodbine Gardens  \n 16                                      Parkview Hill  \n 17                                            Ryerson  \n 18                                    Garden District  \n 19                                          Glencairn  \n 20                                       Not assigned  \n 21                                       Not assigned  \n 22                                         Cloverdale  \n 23                                          Islington  \n 24                                       Martin Grove  \n 25                                   Princess Gardens  \n 26                                    West Deane Park  \n 27                                     Highland Creek  \n 28                                         Rouge Hill  \n 29                                         Port Union  \n ..                                                ...  \n 259                                      Not assigned  \n 260                                      Not assigned  \n 261                                      Not assigned  \n 262                                      Not assigned  \n 263                              Church and Wellesley  \n 264                                      Not assigned  \n 265                                      Not assigned  \n 266  Business reply mail Processing Centre969 Eastern  \n 267                                        Humber Bay  \n 268                                  King's Mill Park  \n 269                          Kingsway Park South East  \n 270                                         Mimico NE  \n 271                                    Old Mill South  \n 272                                The Queensway East  \n 273                             Royal York South East  \n 274                                          Sunnylea  \n 275                                      Not assigned  \n 276                                      Not assigned  \n 277                                      Not assigned  \n 278                                      Not assigned  \n 279                                      Not assigned  \n 280                                      Not assigned  \n 281                                      Not assigned  \n 282                                      Not assigned  \n 283                          Kingsway Park South West  \n 284                                         Mimico NW  \n 285                                The Queensway West  \n 286                             Royal York South West  \n 287                                    South of Bloor  \n 288                                      Not assigned  \n \n [289 rows x 3 columns],\n                                           Unnamed: 0 Canadian postal codes  \\\n 0  NL NS PE NB QC ON MB SK AB BC NU/NT YT A B C E...                    NL   \n 1                                                 NL                    NS   \n 2                                                  A                     B   \n \n   Unnamed: 2 Unnamed: 3 Unnamed: 4 Unnamed: 5 Unnamed: 6 Unnamed: 7  \\\n 0         NS         PE         NB         QC         ON         MB   \n 1         PE         NB         QC         ON         MB         SK   \n 2          C          E          G          H          J          K   \n \n   Unnamed: 8 Unnamed: 9     ...     Unnamed: 21 Unnamed: 22 Unnamed: 23  \\\n 0         SK         AB     ...               L           M           N   \n 1         AB         BC     ...             NaN         NaN         NaN   \n 2          L          M     ...             NaN         NaN         NaN   \n \n   Unnamed: 24 Unnamed: 25 Unnamed: 26 Unnamed: 27 Unnamed: 28 Unnamed: 29  \\\n 0           P           R           S           T           V           X   \n 1         NaN         NaN         NaN         NaN         NaN         NaN   \n 2         NaN         NaN         NaN         NaN         NaN         NaN   \n \n   Unnamed: 30  \n 0           Y  \n 1         NaN  \n 2         NaN  \n \n [3 rows x 31 columns],\n   NL NS PE NB QC ON MB SK AB BC NU/NT YT Unnamed: 12 Unnamed: 13 Unnamed: 14  \\\n 0  A  B  C  E  G  H  J  K  L  M     N  P           R           S           T   \n \n   Unnamed: 15 Unnamed: 16 Unnamed: 17  \n 0           V           X           Y  ]"
                    }, 
                    "output_type": "execute_result"
                }
            ], 
            "source": "dfs= pd.read_html(url, match='.+', header=0, flavor='bs4')\ndfs"
        }, 
        {
            "execution_count": 4, 
            "cell_type": "code", 
            "metadata": {}, 
            "outputs": [
                {
                    "execution_count": 4, 
                    "metadata": {}, 
                    "data": {
                        "text/html": "<div>\n<style scoped>\n    .dataframe tbody tr th:only-of-type {\n        vertical-align: middle;\n    }\n\n    .dataframe tbody tr th {\n        vertical-align: top;\n    }\n\n    .dataframe thead th {\n        text-align: right;\n    }\n</style>\n<table border=\"1\" class=\"dataframe\">\n  <thead>\n    <tr style=\"text-align: right;\">\n      <th></th>\n      <th>PostalCode</th>\n      <th>Borough</th>\n      <th>Neighborhood</th>\n    </tr>\n  </thead>\n  <tbody>\n    <tr>\n      <th>0</th>\n      <td>M1A</td>\n      <td>Not assigned</td>\n      <td>Not assigned</td>\n    </tr>\n    <tr>\n      <th>1</th>\n      <td>M2A</td>\n      <td>Not assigned</td>\n      <td>Not assigned</td>\n    </tr>\n    <tr>\n      <th>2</th>\n      <td>M3A</td>\n      <td>North York</td>\n      <td>Parkwoods</td>\n    </tr>\n    <tr>\n      <th>3</th>\n      <td>M4A</td>\n      <td>North York</td>\n      <td>Victoria Village</td>\n    </tr>\n    <tr>\n      <th>4</th>\n      <td>M5A</td>\n      <td>Downtown Toronto</td>\n      <td>Harbourfront</td>\n    </tr>\n  </tbody>\n</table>\n</div>", 
                        "text/plain": "  PostalCode           Borough      Neighborhood\n0        M1A      Not assigned      Not assigned\n1        M2A      Not assigned      Not assigned\n2        M3A        North York         Parkwoods\n3        M4A        North York  Victoria Village\n4        M5A  Downtown Toronto      Harbourfront"
                    }, 
                    "output_type": "execute_result"
                }
            ], 
            "source": "dfs[0].columns = ['PostalCode', 'Borough', 'Neighborhood']\ndf=dfs[0]\ndf[0:5]"
        }, 
        {
            "execution_count": 5, 
            "cell_type": "code", 
            "metadata": {}, 
            "outputs": [
                {
                    "execution_count": 5, 
                    "metadata": {}, 
                    "data": {
                        "text/html": "<div>\n<style scoped>\n    .dataframe tbody tr th:only-of-type {\n        vertical-align: middle;\n    }\n\n    .dataframe tbody tr th {\n        vertical-align: top;\n    }\n\n    .dataframe thead th {\n        text-align: right;\n    }\n</style>\n<table border=\"1\" class=\"dataframe\">\n  <thead>\n    <tr style=\"text-align: right;\">\n      <th></th>\n      <th>PostalCode</th>\n      <th>Borough</th>\n      <th>Neighborhood</th>\n    </tr>\n  </thead>\n  <tbody>\n    <tr>\n      <th>2</th>\n      <td>M3A</td>\n      <td>North York</td>\n      <td>Parkwoods</td>\n    </tr>\n    <tr>\n      <th>3</th>\n      <td>M4A</td>\n      <td>North York</td>\n      <td>Victoria Village</td>\n    </tr>\n    <tr>\n      <th>4</th>\n      <td>M5A</td>\n      <td>Downtown Toronto</td>\n      <td>Harbourfront</td>\n    </tr>\n    <tr>\n      <th>5</th>\n      <td>M5A</td>\n      <td>Downtown Toronto</td>\n      <td>Regent Park</td>\n    </tr>\n    <tr>\n      <th>6</th>\n      <td>M6A</td>\n      <td>North York</td>\n      <td>Lawrence Heights</td>\n    </tr>\n  </tbody>\n</table>\n</div>", 
                        "text/plain": "  PostalCode           Borough      Neighborhood\n2        M3A        North York         Parkwoods\n3        M4A        North York  Victoria Village\n4        M5A  Downtown Toronto      Harbourfront\n5        M5A  Downtown Toronto       Regent Park\n6        M6A        North York  Lawrence Heights"
                    }, 
                    "output_type": "execute_result"
                }
            ], 
            "source": "mask = df['Borough'].isin(['Not assigned'])\ndf_drop=df[~mask]\ndf_drop[0:5]"
        }, 
        {
            "execution_count": 6, 
            "cell_type": "code", 
            "metadata": {}, 
            "outputs": [
                {
                    "execution_count": 6, 
                    "metadata": {}, 
                    "data": {
                        "text/html": "<div>\n<style scoped>\n    .dataframe tbody tr th:only-of-type {\n        vertical-align: middle;\n    }\n\n    .dataframe tbody tr th {\n        vertical-align: top;\n    }\n\n    .dataframe thead th {\n        text-align: right;\n    }\n</style>\n<table border=\"1\" class=\"dataframe\">\n  <thead>\n    <tr style=\"text-align: right;\">\n      <th></th>\n      <th>PostalCode</th>\n      <th>Borough</th>\n      <th>Neighborhood</th>\n    </tr>\n  </thead>\n  <tbody>\n    <tr>\n      <th>0</th>\n      <td>M1B</td>\n      <td>Scarborough</td>\n      <td>Rouge, Malvern</td>\n    </tr>\n    <tr>\n      <th>1</th>\n      <td>M1C</td>\n      <td>Scarborough</td>\n      <td>Highland Creek, Rouge Hill, Port Union</td>\n    </tr>\n    <tr>\n      <th>2</th>\n      <td>M1E</td>\n      <td>Scarborough</td>\n      <td>Guildwood, Morningside, West Hill</td>\n    </tr>\n    <tr>\n      <th>3</th>\n      <td>M1G</td>\n      <td>Scarborough</td>\n      <td>Woburn</td>\n    </tr>\n    <tr>\n      <th>4</th>\n      <td>M1H</td>\n      <td>Scarborough</td>\n      <td>Cedarbrae</td>\n    </tr>\n  </tbody>\n</table>\n</div>", 
                        "text/plain": "  PostalCode      Borough                            Neighborhood\n0        M1B  Scarborough                          Rouge, Malvern\n1        M1C  Scarborough  Highland Creek, Rouge Hill, Port Union\n2        M1E  Scarborough       Guildwood, Morningside, West Hill\n3        M1G  Scarborough                                  Woburn\n4        M1H  Scarborough                               Cedarbrae"
                    }, 
                    "output_type": "execute_result"
                }
            ], 
            "source": "df_group=df_drop.groupby(['PostalCode','Borough'])['Neighborhood'].apply(', '.join).reset_index()\ndf_group[0:5]"
        }, 
        {
            "execution_count": 7, 
            "cell_type": "code", 
            "metadata": {}, 
            "outputs": [
                {
                    "execution_count": 7, 
                    "metadata": {}, 
                    "data": {
                        "text/plain": "(103, 3)"
                    }, 
                    "output_type": "execute_result"
                }
            ], 
            "source": "df_group.shape"
        }, 
        {
            "execution_count": null, 
            "cell_type": "code", 
            "metadata": {}, 
            "outputs": [], 
            "source": ""
        }
    ], 
    "metadata": {
        "kernelspec": {
            "display_name": "Python 3.5", 
            "name": "python3", 
            "language": "python"
        }, 
        "language_info": {
            "mimetype": "text/x-python", 
            "nbconvert_exporter": "python", 
            "version": "3.5.5", 
            "name": "python", 
            "file_extension": ".py", 
            "pygments_lexer": "ipython3", 
            "codemirror_mode": {
                "version": 3, 
                "name": "ipython"
            }
        }
    }, 
    "nbformat": 4
}